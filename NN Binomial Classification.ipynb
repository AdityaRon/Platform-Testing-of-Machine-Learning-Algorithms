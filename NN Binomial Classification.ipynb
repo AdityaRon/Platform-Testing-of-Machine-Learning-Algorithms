{
 "cells": [
  {
   "cell_type": "code",
   "execution_count": 12,
   "metadata": {
    "collapsed": false
   },
   "outputs": [],
   "source": [
    "\"\"\"\n",
    "==============================================\n",
    "Using multilayer perceptron for classification\n",
    "==============================================\n",
    "\n",
    "\"\"\"\n",
    "\n",
    "import numpy as np\n",
    "import pandas as pd\n",
    "from sklearn.metrics import confusion_matrix\n",
    "from sklearn.cross_validation import train_test_split, cross_val_score, StratifiedShuffleSplit \n",
    "from sklearn import preprocessing, metrics\n",
    "from sklearn.metrics import roc_curve, auc\n",
    "import timeit\n",
    "import matplotlib.pyplot as plt\n",
    "get_ipython().magic('matplotlib inline')\n",
    "from multilayer_perceptron  import MultilayerPerceptronClassifier\n"
   ]
  },
  {
   "cell_type": "code",
   "execution_count": 13,
   "metadata": {
    "collapsed": true
   },
   "outputs": [],
   "source": [
    "## Reading the file\n",
    "def read_file(trainF,testF, Directory):\n",
    "    #Directory = \"./Data Set 1/splits/\"\n",
    "    train = pd.read_csv(Directory + trainF)\n",
    "    test =  pd.read_csv(Directory + testF)\n",
    "    return train, test"
   ]
  },
  {
   "cell_type": "code",
   "execution_count": 14,
   "metadata": {
    "collapsed": true
   },
   "outputs": [],
   "source": [
    "## MLP classifier\n",
    "def mlp_classifier(train, test, accuracy, roc_auc, Target_col,pos_label=None):\n",
    "    start_time = timeit.default_timer()\n",
    "    y = train[Target_col]\n",
    "    X = train.drop([Target_col],axis=1)\n",
    "    test_labels = test[Target_col]\n",
    "    test_X = test.drop([Target_col],axis=1)\n",
    "    clf = MultilayerPerceptronClassifier()\n",
    "    clf.fit(X,y)\n",
    "    y_pred = clf.predict(test_X)\n",
    "    accuracy.append(metrics.accuracy_score(test_labels, y_pred))\n",
    "    probas_ = clf.predict_proba(test_X)\n",
    "    # Compute ROC curve and area the curve\n",
    "    false_positive_rate, true_positive_rate, thresholds = roc_curve(test_labels, probas_[:, 1],pos_label=pos_label)\n",
    "    roc_auc.append(auc(false_positive_rate, true_positive_rate))\n",
    "    elapsed = (timeit.default_timer() - start_time)/60\n",
    "    return accuracy, roc_auc, elapsed"
   ]
  },
  {
   "cell_type": "code",
   "execution_count": 15,
   "metadata": {
    "collapsed": false
   },
   "outputs": [],
   "source": [
    "def model_build(filenum,Target_column, df_train, df_test, Directory,pos_label=None):\n",
    "    accuracy_mlp = []; roc_auc_mlp = []\n",
    "    Target_col = Target_column\n",
    "    elapsed_time_mlp = []\n",
    "    for i in range(1,11):\n",
    "        trainF = df_train+ str(i) + '.csv'\n",
    "        testF = df_test + str(i) + '.csv'\n",
    "        train, test = read_file(trainF,testF,Directory)\n",
    "        accuracy_mlp, roc_auc_mlp, elapsed = mlp_classifier(train, test, accuracy_mlp, roc_auc_mlp, Target_col,pos_label)\n",
    "        elapsed_time_mlp.append(elapsed)\n",
    "\n",
    "    print('Data set# ' + str(filenum))\n",
    "    print('********** MLP classifier ***********')\n",
    "    print('Individual file accuracy for MLP')\n",
    "    print(np.array(accuracy_mlp))\n",
    "    print('Individual time taken for MLP')\n",
    "    print(np.array(elapsed_time_mlp))\n",
    "    print('Accuracy mean   ' + 'Accuracy Stdev  ')\n",
    "    print(np.array(accuracy_mlp).mean(), np.array(accuracy_mlp).std())\n",
    "    print('Individual file AUC for MLP')\n",
    "    print(np.array(roc_auc_mlp))\n",
    "    print('AUC mean        ' + 'AUC      Stdev  ')\n",
    "    print(np.array(roc_auc_mlp).mean(), np.array(roc_auc_mlp).std())\n",
    "    print()"
   ]
  },
  {
   "cell_type": "code",
   "execution_count": 16,
   "metadata": {
    "collapsed": false
   },
   "outputs": [
    {
     "name": "stdout",
     "output_type": "stream",
     "text": [
      "Data set# 1\n",
      "********** MLP classifier ***********\n",
      "Individual file accuracy for MLP\n",
      "[ 0.99402046  0.94785847  0.79020651  0.94813084  0.99335653  0.78862794\n",
      "  0.78812125  0.94693124  0.79035509  0.99408192]\n",
      "Individual time taken for MLP\n",
      "[ 0.07359427  0.02964645  0.00819182  0.0393928   0.08714583  0.02426808\n",
      "  0.0217269   0.03005011  0.02474961  0.07826636]\n",
      "Accuracy mean   Accuracy Stdev  \n",
      "0.898169025034 0.0906531476059\n",
      "Individual file AUC for MLP\n",
      "[ 0.99725697  0.96395746  0.5         0.96369044  0.99777457  0.5         0.5\n",
      "  0.96473696  0.5         0.99696388]\n",
      "AUC mean        AUC      Stdev  \n",
      "0.788438028108 0.235859692687\n",
      "\n"
     ]
    }
   ],
   "source": [
    "model_build(filenum=1,Target_column='Occupancy', df_train='d1_train', df_test='d1_test', Directory = \"./Data Set 1/splits/\")"
   ]
  },
  {
   "cell_type": "code",
   "execution_count": 17,
   "metadata": {
    "collapsed": false
   },
   "outputs": [
    {
     "name": "stdout",
     "output_type": "stream",
     "text": [
      "Data set# 3\n",
      "********** MLP classifier ***********\n",
      "Individual file accuracy for MLP\n",
      "[ 0.81526899  0.81716745  0.81850846  0.81424271  0.817045    0.81857109\n",
      "  0.81385966  0.82219922  0.81316484  0.81199236]\n",
      "Individual time taken for MLP\n",
      "[ 0.19949222  0.18150373  0.19037195  0.15607547  0.15843363  0.19739085\n",
      "  0.1604215   0.2277425   0.1632268   0.14695876]\n",
      "Accuracy mean   Accuracy Stdev  \n",
      "0.816201978309 0.00292716682126\n",
      "Individual file AUC for MLP\n",
      "[ 0.87107679  0.87331367  0.87454286  0.8680112   0.87093263  0.86709667\n",
      "  0.86787613  0.87766201  0.86694778  0.86708087]\n",
      "AUC mean        AUC      Stdev  \n",
      "0.870454060431 0.00353588364365\n",
      "\n"
     ]
    }
   ],
   "source": [
    "model_build(filenum=3,Target_column='Class', df_train='d3_train', df_test='d3_test', Directory = \"./Data Set 3/splits/\",pos_label=2)"
   ]
  },
  {
   "cell_type": "code",
   "execution_count": 18,
   "metadata": {
    "collapsed": false
   },
   "outputs": [
    {
     "name": "stdout",
     "output_type": "stream",
     "text": [
      "Data set# 5\n",
      "********** MLP classifier ***********\n",
      "Individual file accuracy for MLP\n",
      "[ 0.83170576  0.8250367   0.76553889  0.82892262  0.87820106  0.57007563\n",
      "  0.8391948   0.86821809  0.84359379  0.87049878]\n",
      "Individual time taken for MLP\n",
      "[ 0.07644033  0.07352272  0.10372312  0.10755043  0.08681573  0.04253161\n",
      "  0.06101409  0.09807952  0.03985525  0.10414775]\n",
      "Accuracy mean   Accuracy Stdev  \n",
      "0.812098612611 0.0861588481203\n",
      "Individual file AUC for MLP\n",
      "[ 0.46831676  0.46548408  0.29322024  0.49610506  0.49354631  0.51450199\n",
      "  0.46918661  0.35956919  0.4573502   0.47625672]\n",
      "AUC mean        AUC      Stdev  \n",
      "0.449353716229 0.0652860927209\n",
      "\n"
     ]
    }
   ],
   "source": [
    "model_build(filenum=5,Target_column='y', df_train='d5_train', df_test='d5_test', Directory = \"./Data Set 5/splits/\",pos_label=None)"
   ]
  },
  {
   "cell_type": "code",
   "execution_count": 19,
   "metadata": {
    "collapsed": false
   },
   "outputs": [
    {
     "name": "stdout",
     "output_type": "stream",
     "text": [
      "Data set# 9\n",
      "********** MLP classifier ***********\n",
      "Individual file accuracy for MLP\n",
      "[ 0.81874387  0.81810578  0.81848739  0.82471546  0.82103074  0.82231794\n",
      "  0.81592842  0.82242299  0.8187391   0.81942733]\n",
      "Individual time taken for MLP\n",
      "[ 0.21082039  0.27596355  0.21683327  0.25650949  0.22437981  0.26444234\n",
      "  0.29896545  0.23430989  0.27512945  0.21423049]\n",
      "Accuracy mean   Accuracy Stdev  \n",
      "0.819991902707 0.00245948201597\n",
      "Individual file AUC for MLP\n",
      "[ 0.8618933   0.86415747  0.86404769  0.86704887  0.86918196  0.86959377\n",
      "  0.86598882  0.87015829  0.86742352  0.86715908]\n",
      "AUC mean        AUC      Stdev  \n",
      "0.866665275056 0.0025386423644\n",
      "\n"
     ]
    }
   ],
   "source": [
    "model_build(filenum=9,Target_column='Income level', df_train='d9_train', df_test='d9_test', Directory = \"./Data Set 9/splits/\",pos_label=None)"
   ]
  },
  {
   "cell_type": "code",
   "execution_count": 20,
   "metadata": {
    "collapsed": false
   },
   "outputs": [
    {
     "name": "stdout",
     "output_type": "stream",
     "text": [
      "Data set# 11\n",
      "********** MLP classifier ***********\n",
      "Individual file accuracy for MLP\n",
      "[ 0.77272727  0.61538462  0.52941176  0.58333333  0.6         0.56521739\n",
      "  0.64        0.55172414  0.62962963  0.62962963]\n",
      "Individual time taken for MLP\n",
      "[ 0.09967528  0.06094197  0.08739951  0.05249316  0.08406341  0.11769849\n",
      "  0.0821827   0.05540164  0.08308128  0.07916135]\n",
      "Accuracy mean   Accuracy Stdev  \n",
      "0.611705777465 0.0639201378626\n",
      "Individual file AUC for MLP\n",
      "[ 0.5         0.49673203  0.60888889  0.5         0.5         0.5\n",
      "  0.47058824  0.5         0.5         0.5       ]\n",
      "AUC mean        AUC      Stdev  \n",
      "0.507620915033 0.0348593433965\n",
      "\n"
     ]
    }
   ],
   "source": [
    "model_build(filenum=11,Target_column='C7130', df_train='amlall_train', df_test='amlall_test', Directory = \"./data11_amlalll/\",pos_label='AML')"
   ]
  },
  {
   "cell_type": "code",
   "execution_count": 21,
   "metadata": {
    "collapsed": false
   },
   "outputs": [
    {
     "name": "stdout",
     "output_type": "stream",
     "text": [
      "Data set# 13\n",
      "********** MLP classifier ***********\n",
      "Individual file accuracy for MLP\n",
      "[ 0.58823529  0.66666667  0.52173913  0.61538462  0.58333333  0.47619048\n",
      "  0.41666667  0.35294118  0.55555556  0.4375    ]\n",
      "Individual time taken for MLP\n",
      "[ 0.08435838  0.09304627  0.08068079  0.09020802  0.07994211  0.09096792\n",
      "  0.08338422  0.07528344  0.07630121  0.08065561]\n",
      "Accuracy mean   Accuracy Stdev  \n",
      "0.521421291482 0.0937205828629\n",
      "Individual file AUC for MLP\n",
      "[ 0.47115385  0.41176471  0.42916667  0.5375      0.5         0.49545455\n",
      "  0.4375      0.5         0.56923077  0.5       ]\n",
      "AUC mean        AUC      Stdev  \n",
      "0.485177053339 0.0464368301233\n",
      "\n"
     ]
    }
   ],
   "source": [
    "model_build(filenum=13,Target_column='C7130', df_train='central_train', df_test='central_test', Directory = \"./data13_central/\",pos_label='Class1')"
   ]
  },
  {
   "cell_type": "code",
   "execution_count": 22,
   "metadata": {
    "collapsed": false
   },
   "outputs": [
    {
     "name": "stdout",
     "output_type": "stream",
     "text": [
      "Data set# 16\n",
      "********** MLP classifier ***********\n",
      "Individual file accuracy for MLP\n",
      "[ 0.97058824  0.97619048  1.          1.          0.97142857  0.96666667\n",
      "  1.          0.95918367  0.94594595  1.        ]\n",
      "Individual time taken for MLP\n",
      "[ 0.12407472  0.13385019  0.10884812  0.13674891  0.11753037  0.12844653\n",
      "  0.12341076  0.12131069  0.09498585  0.08934704]\n",
      "Accuracy mean   Accuracy Stdev  \n",
      "0.9790003569 0.0188078338373\n",
      "Individual file AUC for MLP\n",
      "[ 1.          0.99278846  1.          1.          0.99        0.99111111\n",
      "  1.          0.99665552  0.98809524  1.        ]\n",
      "AUC mean        AUC      Stdev  \n",
      "0.995865032914 0.00461462910591\n",
      "\n"
     ]
    }
   ],
   "source": [
    "model_build(filenum=16,Target_column='TARGET', df_train='d16_original_train', df_test='d16_original_test', Directory = \"./Original Dataset_16_Prostrate/\",pos_label=None)"
   ]
  }
 ],
 "metadata": {
  "kernelspec": {
   "display_name": "Python 3",
   "language": "python",
   "name": "python3"
  },
  "language_info": {
   "codemirror_mode": {
    "name": "ipython",
    "version": 3
   },
   "file_extension": ".py",
   "mimetype": "text/x-python",
   "name": "python",
   "nbconvert_exporter": "python",
   "pygments_lexer": "ipython3",
   "version": "3.5.1"
  }
 },
 "nbformat": 4,
 "nbformat_minor": 0
}
